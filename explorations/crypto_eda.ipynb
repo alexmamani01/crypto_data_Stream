{
 "cells": [
  {
   "cell_type": "markdown",
   "metadata": {},
   "source": [
    "CRYPTOCURRENCY API EXPLORATORY DATA ANALYSIS"
   ]
  },
  {
   "cell_type": "code",
   "execution_count": 1,
   "metadata": {},
   "outputs": [
    {
     "data": {
      "text/plain": [
       "{'status': {'timestamp': '2025-04-03T23:14:40.928Z',\n",
       "  'error_code': 0,\n",
       "  'error_message': None,\n",
       "  'elapsed': 25,\n",
       "  'credit_count': 1,\n",
       "  'notice': None},\n",
       " 'data': {'BTC': {'id': 1,\n",
       "   'name': 'Bitcoin',\n",
       "   'symbol': 'BTC',\n",
       "   'slug': 'bitcoin',\n",
       "   'num_market_pairs': 12005,\n",
       "   'date_added': '2010-07-13T00:00:00.000Z',\n",
       "   'tags': ['mineable',\n",
       "    'pow',\n",
       "    'sha-256',\n",
       "    'store-of-value',\n",
       "    'state-channel',\n",
       "    'coinbase-ventures-portfolio',\n",
       "    'three-arrows-capital-portfolio',\n",
       "    'polychain-capital-portfolio',\n",
       "    'binance-labs-portfolio',\n",
       "    'blockchain-capital-portfolio',\n",
       "    'boostvc-portfolio',\n",
       "    'cms-holdings-portfolio',\n",
       "    'dcg-portfolio',\n",
       "    'dragonfly-capital-portfolio',\n",
       "    'electric-capital-portfolio',\n",
       "    'fabric-ventures-portfolio',\n",
       "    'framework-ventures-portfolio',\n",
       "    'galaxy-digital-portfolio',\n",
       "    'huobi-capital-portfolio',\n",
       "    'alameda-research-portfolio',\n",
       "    'a16z-portfolio',\n",
       "    '1confirmation-portfolio',\n",
       "    'winklevoss-capital-portfolio',\n",
       "    'usv-portfolio',\n",
       "    'placeholder-ventures-portfolio',\n",
       "    'pantera-capital-portfolio',\n",
       "    'multicoin-capital-portfolio',\n",
       "    'paradigm-portfolio',\n",
       "    'bitcoin-ecosystem',\n",
       "    'ftx-bankruptcy-estate',\n",
       "    '2017-2018-alt-season',\n",
       "    'us-strategic-crypto-reserve'],\n",
       "   'max_supply': 21000000,\n",
       "   'circulating_supply': 19846143,\n",
       "   'total_supply': 19846143,\n",
       "   'is_active': 1,\n",
       "   'infinite_supply': False,\n",
       "   'platform': None,\n",
       "   'cmc_rank': 1,\n",
       "   'is_fiat': 0,\n",
       "   'self_reported_circulating_supply': None,\n",
       "   'self_reported_market_cap': None,\n",
       "   'tvl_ratio': None,\n",
       "   'last_updated': '2025-04-03T23:13:00.000Z',\n",
       "   'quote': {'USD': {'price': 82546.53307951738,\n",
       "     'volume_24h': 37974766516.60926,\n",
       "     'volume_change_24h': -17.3915,\n",
       "     'percent_change_1h': -0.22571704,\n",
       "     'percent_change_24h': 0.0440777,\n",
       "     'percent_change_7d': -5.30365441,\n",
       "     'percent_change_30d': -5.82738863,\n",
       "     'percent_change_60d': -15.44713414,\n",
       "     'percent_change_90d': -15.97678871,\n",
       "     'market_cap': 1638230299650.3323,\n",
       "     'market_cap_dominance': 61.8822,\n",
       "     'fully_diluted_market_cap': 1733477194669.86,\n",
       "     'tvl': None,\n",
       "     'last_updated': '2025-04-03T23:13:00.000Z'}}}}}"
      ]
     },
     "execution_count": 1,
     "metadata": {},
     "output_type": "execute_result"
    }
   ],
   "source": [
    "from requests import request, session\n",
    "from requests.exceptions import ConnectionError, Timeout, TooManyRedirects\n",
    "import json\n",
    "from dotenv import load_dotenv\n",
    "import os \n",
    "\n",
    "\n",
    "load_dotenv()\n",
    "API_KEY= os.getenv('COINMARKET_API')\n",
    "convert_coins= [\"USD\"]\n",
    "target_symbol= [\"BTC\"]\n",
    "\n",
    "url= 'https://pro-api.coinmarketcap.com/v1/cryptocurrency/quotes/latest'\n",
    "\n",
    "parameters={\n",
    " \"convert\" : convert_coins,\n",
    " \"symbol\": target_symbol\n",
    "\n",
    "\n",
    "}\n",
    "\n",
    "headers={\n",
    "    'Accepts': 'application/json',\n",
    "    'X-CMC_PRO_API_KEY': API_KEY\n",
    "\n",
    "}\n",
    "\n",
    "session= session()\n",
    "session.headers.update(headers)\n",
    "\n",
    "try:\n",
    "    response=session.get(url, params=parameters)\n",
    "    data=json.loads(response.text)\n",
    "except (ConnectionError, Timeout, TooManyRedirects) as e :\n",
    "    print(e)\n",
    "\n",
    "data\n"
   ]
  },
  {
   "cell_type": "code",
   "execution_count": 2,
   "metadata": {},
   "outputs": [
    {
     "data": {
      "text/plain": [
       "dict_keys(['status', 'data'])"
      ]
     },
     "execution_count": 2,
     "metadata": {},
     "output_type": "execute_result"
    }
   ],
   "source": [
    "from requests import request, session\n",
    "from requests.exceptions import ConnectionError, Timeout, TooManyRedirects\n",
    "import json\n",
    "from dotenv import load_dotenv\n",
    "import os \n",
    "\n",
    "\n",
    "load_dotenv()\n",
    "API_KEY= os.getenv('COINMARKET_API')\n",
    "convert_coins= [\"USD\"]\n",
    "target_symbol= [\"BTC\", \"ETH\"]\n",
    "\n",
    "url= 'https://pro-api.coinmarketcap.com/v1/cryptocurrency/quotes/latest'\n",
    "\n",
    "parameters={\n",
    " \"convert\" : \",\".join( convert_coins),\n",
    " \"symbol\":\",\".join( target_symbol)\n",
    "\n",
    "\n",
    "}\n",
    "\n",
    "headers={\n",
    "    'Accepts': 'application/json',\n",
    "    'X-CMC_PRO_API_KEY': API_KEY\n",
    "\n",
    "}\n",
    "\n",
    "session= session()\n",
    "session.headers.update(headers)\n",
    "\n",
    "try:\n",
    "    response=session.get(url, params=parameters)\n",
    "    data=json.loads(response.text)\n",
    "except (ConnectionError, Timeout, TooManyRedirects) as e :\n",
    "    print(e)\n",
    "\n",
    "data.keys()"
   ]
  },
  {
   "cell_type": "code",
   "execution_count": 3,
   "metadata": {},
   "outputs": [
    {
     "data": {
      "text/plain": [
       "dict_keys(['BTC', 'ETH'])"
      ]
     },
     "execution_count": 3,
     "metadata": {},
     "output_type": "execute_result"
    }
   ],
   "source": [
    "data['data'].keys()\n"
   ]
  },
  {
   "cell_type": "code",
   "execution_count": 41,
   "metadata": {},
   "outputs": [
    {
     "data": {
      "text/plain": [
       "dict_keys(['id', 'name', 'symbol', 'slug', 'num_market_pairs', 'date_added', 'tags', 'max_supply', 'circulating_supply', 'total_supply', 'is_active', 'infinite_supply', 'platform', 'cmc_rank', 'is_fiat', 'self_reported_circulating_supply', 'self_reported_market_cap', 'tvl_ratio', 'last_updated', 'quote'])"
      ]
     },
     "execution_count": 41,
     "metadata": {},
     "output_type": "execute_result"
    }
   ],
   "source": [
    "data['data']['BTC'].keys()"
   ]
  },
  {
   "cell_type": "code",
   "execution_count": 42,
   "metadata": {},
   "outputs": [
    {
     "data": {
      "text/plain": [
       "('Bitcoin', 'BTC', 'bitcoin', 19845634)"
      ]
     },
     "execution_count": 42,
     "metadata": {},
     "output_type": "execute_result"
    }
   ],
   "source": [
    "btc_data=data['data']['BTC']\n",
    "btc_data[\"name\"], btc_data['symbol'], btc_data['slug'], btc_data['circulating_supply']\n"
   ]
  },
  {
   "cell_type": "code",
   "execution_count": 44,
   "metadata": {},
   "outputs": [
    {
     "data": {
      "text/plain": [
       "{'USD': {'price': 85573.32777559951,\n",
       "  'volume_24h': 40614408207.60206,\n",
       "  'volume_change_24h': 45.8599,\n",
       "  'percent_change_1h': -0.96598638,\n",
       "  'percent_change_24h': 0.33196345,\n",
       "  'percent_change_7d': -1.94755613,\n",
       "  'percent_change_30d': -0.13931475,\n",
       "  'percent_change_60d': -15.3166369,\n",
       "  'percent_change_90d': -12.19372659,\n",
       "  'market_cap': 1698256943196.582,\n",
       "  'market_cap_dominance': 62.1708,\n",
       "  'fully_diluted_market_cap': 1797039883287.59,\n",
       "  'tvl': None,\n",
       "  'last_updated': '2025-04-02T20:52:00.000Z'}}"
      ]
     },
     "execution_count": 44,
     "metadata": {},
     "output_type": "execute_result"
    }
   ],
   "source": [
    "btc_data['quote']"
   ]
  },
  {
   "cell_type": "code",
   "execution_count": 45,
   "metadata": {},
   "outputs": [
    {
     "data": {
      "text/plain": [
       "('Ethereum', 'ETH', 'ethereum', 120661946.55615519)"
      ]
     },
     "execution_count": 45,
     "metadata": {},
     "output_type": "execute_result"
    }
   ],
   "source": [
    "btc_data=data['data']['ETH']\n",
    "btc_data[\"name\"], btc_data['symbol'], btc_data['slug'], btc_data['circulating_supply']"
   ]
  }
 ],
 "metadata": {
  "kernelspec": {
   "display_name": ".venv",
   "language": "python",
   "name": "python3"
  },
  "language_info": {
   "codemirror_mode": {
    "name": "ipython",
    "version": 3
   },
   "file_extension": ".py",
   "mimetype": "text/x-python",
   "name": "python",
   "nbconvert_exporter": "python",
   "pygments_lexer": "ipython3",
   "version": "3.9.0"
  }
 },
 "nbformat": 4,
 "nbformat_minor": 2
}
